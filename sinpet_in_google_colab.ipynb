{
  "nbformat": 4,
  "nbformat_minor": 0,
  "metadata": {
    "colab": {
      "provenance": [],
      "authorship_tag": "ABX9TyP1cLb9Itr9If2jVkU8P+IT",
      "include_colab_link": true
    },
    "kernelspec": {
      "name": "python3",
      "display_name": "Python 3"
    },
    "language_info": {
      "name": "python"
    }
  },
  "cells": [
    {
      "cell_type": "markdown",
      "metadata": {
        "id": "view-in-github",
        "colab_type": "text"
      },
      "source": [
        "<a href=\"https://colab.research.google.com/github/Ibnuamrithaher/Deep-Learning/blob/main/sinpet_in_google_colab.ipynb\" target=\"_parent\"><img src=\"https://colab.research.google.com/assets/colab-badge.svg\" alt=\"Open In Colab\"/></a>"
      ]
    },
    {
      "cell_type": "markdown",
      "source": [
        "# **Scikit-learn**"
      ],
      "metadata": {
        "id": "6PFISTGg43td"
      }
    },
    {
      "cell_type": "code",
      "source": [
        "!pip install luwiji, scikit-learn"
      ],
      "metadata": {
        "id": "wuaJw0um5JwF"
      },
      "execution_count": null,
      "outputs": []
    },
    {
      "cell_type": "code",
      "source": [
        "import numpy as np\n",
        "import pandas as pd\n",
        "from sklearn.model_selection import train_test_split\n",
        "from sklearn.pipeline import Pipeline\n",
        "from sklearn.compose import ColumnTransformer\n",
        "\n",
        "from jcopml.pipeline import num_pipe, cat_pipe\n",
        "from jcopml.utils import save_model, load_model\n",
        "from jcopml.plot import plot_missing_value\n",
        "from jcopml.feature_importance import mean_score_decrease"
      ],
      "metadata": {
        "id": "Vv6jeJux48_S"
      },
      "execution_count": null,
      "outputs": []
    },
    {
      "cell_type": "markdown",
      "source": [
        "# **Import csv data**"
      ],
      "metadata": {
        "id": "8qzFozT05lky"
      }
    },
    {
      "cell_type": "markdown",
      "source": [
        "## **Import csv data**"
      ],
      "metadata": {
        "id": "OJOsfrJa5zs4"
      }
    },
    {
      "cell_type": "code",
      "source": [
        "df = pd.read_csv(\"____________\", index_col=\"___________\", parse_dates=[\"____________\"])\",\n",
        "df.head()"
      ],
      "metadata": {
        "id": "XrA58nIL5ycQ"
      },
      "execution_count": null,
      "outputs": []
    },
    {
      "cell_type": "markdown",
      "source": [
        "# **Dataset Splitting**"
      ],
      "metadata": {
        "id": "YgciF-MH6IqR"
      }
    },
    {
      "cell_type": "markdown",
      "source": [
        "## Dataset Splitting"
      ],
      "metadata": {
        "id": "vyg-V7ox6Kwb"
      }
    },
    {
      "cell_type": "code",
      "source": [
        "X = df.drop(columns=\"___________\"),\n",
        "y = \"_____________\",\n",
        "\n",
        "X_train, X_test, y_train, y_test = train_test_split(X, y, test_size=0.2, random_state=42),\n",
        "X_train.shape, X_test.shape, y_train.shape, y_test.shape"
      ],
      "metadata": {
        "id": "0LdGExip6LtQ"
      },
      "execution_count": null,
      "outputs": []
    }
  ]
}