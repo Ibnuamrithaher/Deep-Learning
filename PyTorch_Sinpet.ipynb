{
  "nbformat": 4,
  "nbformat_minor": 0,
  "metadata": {
    "colab": {
      "provenance": [],
      "authorship_tag": "ABX9TyP9bytErcGiklRIuph7KvU+",
      "include_colab_link": true
    },
    "kernelspec": {
      "name": "python3",
      "display_name": "Python 3"
    },
    "language_info": {
      "name": "python"
    }
  },
  "cells": [
    {
      "cell_type": "markdown",
      "metadata": {
        "id": "view-in-github",
        "colab_type": "text"
      },
      "source": [
        "<a href=\"https://colab.research.google.com/github/Ibnuamrithaher/Deep-Learning/blob/main/PyTorch_Sinpet.ipynb\" target=\"_parent\"><img src=\"https://colab.research.google.com/assets/colab-badge.svg\" alt=\"Open In Colab\"/></a>"
      ]
    },
    {
      "cell_type": "markdown",
      "source": [
        "# Import common packages"
      ],
      "metadata": {
        "id": "0n3CDWM4W3Qh"
      }
    },
    {
      "cell_type": "code",
      "source": [
        "import torch\n",
        "from torch import nn, optim\n",
        "from jcopdl.callback import Callback, set_config\n",
        "\n",
        "device = torch.device(\"cuda:0\" if torch.cuda.is_available() else \"cpu\")\n",
        "device"
      ],
      "metadata": {
        "id": "-7plCDpGW5Ig"
      },
      "execution_count": null,
      "outputs": []
    },
    {
      "cell_type": "markdown",
      "source": [
        "# Dataset & Dataloader"
      ],
      "metadata": {
        "id": "U6Yc6GaRXavs"
      }
    },
    {
      "cell_type": "code",
      "source": [
        "# Tensor Dataset\n",
        "from torch.utils.data import TensorDataset, DataLoader\n",
        "\n",
        "bs = \"__\" # isi batch size\n",
        "train_set = TensorDataset(\"________\")\n",
        "trainloader = DataLoader(train_set, batch_size=bs, shuffle=True, num_workers=\"__\")\n",
        "\n",
        "test_set = TensorDataset(\"_________\")\n",
        "testloader = DataLoader(test_set, batch_size=bs, shuffle=False)\n",
        "\n",
        "# Image Folder Dataset\n",
        "from torchvision import datasets, transforms\n",
        "from torch.utils.data import DataLoader\n",
        "\n",
        "bs = \"__\"  # batch size\n",
        "crop_size = \"__\"  # crop size\n",
        "\n",
        "train_transform = transforms.Compose([\n",
        "    \"____________\",  # tambahkan transformasi yang dibutuhkan\n",
        "    transforms.ToTensor()\n",
        "])\n",
        "\n",
        "test_transform = transforms.Compose([\n",
        "    \"____________\",  # tambahkan transformasi yang dibutuhkan\n",
        "    transforms.ToTensor()\n",
        "])\n",
        "\n",
        "train_set = datasets.ImageFolder(\"________\", transform=train_transform)\n",
        "trainloader = DataLoader(train_set, batch_size=bs, shuffle=True, num_workers=4)\n",
        "\n",
        "test_set = datasets.ImageFolder(\"________\", transform=test_transform)\n",
        "testloader = DataLoader(test_set, batch_size=bs, shuffle=False)"
      ],
      "metadata": {
        "id": "7DeIWvH2Zp81"
      },
      "execution_count": null,
      "outputs": []
    },
    {
      "cell_type": "markdown",
      "source": [
        "# Torchvision Image Folder"
      ],
      "metadata": {
        "id": "UD_RBYyRa1GL"
      }
    },
    {
      "cell_type": "code",
      "source": [
        "from torchvision import datasets, transforms\n",
        "from torch.utils.data import DataLoader\n",
        "\n",
        "bs = \"______\"\n",
        "crop_size = \"____\"\n",
        "\n",
        "train_transform = transforms.Compose([\n",
        "    \"____________\",\n",
        "    transforms.ToTensor()\n",
        "])\n",
        "\n",
        "test_transform = transforms.Compose([\n",
        "    \"____________\",\n",
        "    transforms.ToTensor()\n",
        "])\n",
        "\n",
        "train_set = datasets.ImageFolder(\"________\", transform=train_transform)\n",
        "trainloader = DataLoader(train_set, batch_size=bs, shuffle=True, num_workers=4)\n",
        "\n",
        "test_set = datasets.ImageFolder(\"________\", transform=test_transform)\n",
        "testloader = DataLoader(test_set, batch_size=bs, shuffle=\"____\")"
      ],
      "metadata": {
        "id": "BPBo5oS5a4S4"
      },
      "execution_count": null,
      "outputs": []
    },
    {
      "cell_type": "markdown",
      "source": [
        "# Arsitektur:A. Template Dasar"
      ],
      "metadata": {
        "id": "D5PHF6-4a8v1"
      }
    },
    {
      "cell_type": "code",
      "source": [
        "class MyCustomModule(nn.Module):\n",
        "    def __init__(self):\n",
        "        super().__init__()\n",
        "\n",
        "    def forward(self, x):"
      ],
      "metadata": {
        "id": "HI3LOtRca-aT"
      },
      "execution_count": null,
      "outputs": []
    },
    {
      "cell_type": "markdown",
      "source": [
        "# ANN Example"
      ],
      "metadata": {
        "id": "TuKVwOn2bAsp"
      }
    },
    {
      "cell_type": "code",
      "source": [
        "from jcopdl.layers import linear_block\n",
        "\n",
        "class NN(nn.Module):\n",
        "    def __init__(self):\n",
        "        super().__init__()\n",
        "        self.fc = nn.Sequential(\n",
        "            linear_block(input_size, n1, dropout=dropout),\n",
        "            linear_block(n1, n2, dropout=dropout),\n",
        "            linear_block(n2, output_size, activation='_________')\n",
        "        ),\n",
        "\n",
        "    def forward(self, x):\n",
        "        return self.fc(x)"
      ],
      "metadata": {
        "id": "qq7ByLIXbCEt"
      },
      "execution_count": null,
      "outputs": []
    },
    {
      "cell_type": "markdown",
      "source": [
        "# CNN Example"
      ],
      "metadata": {
        "id": "Uz--ADnfbDPn"
      }
    },
    {
      "cell_type": "code",
      "source": [
        "from jcopdl.layers import linear_block, conv_block\n",
        "\n",
        "class CNN(nn.Module):\n",
        "    def __init__(self):\n",
        "        super().__init__()\n",
        "        self.conv = nn.Sequential(\n",
        "            conv_block(\"___\", \"___\"),\n",
        "            conv_block(\"___\", \"___\"),\n",
        "            nn.Flatten()\n",
        "        )\n",
        "\n",
        "        self.fc = nn.Sequential(\n",
        "            linear_block(\"_____\", \"_____\", dropout=\"_____\"),\n",
        "            linear_block(\"_____\", \"_____\", activation=\"______\")\n",
        "        )\n",
        "\n",
        "    def forward(self, x):\n",
        "        return self.fc(self.conv(x))"
      ],
      "metadata": {
        "id": "LRDrEPtnbFaB"
      },
      "execution_count": null,
      "outputs": []
    },
    {
      "cell_type": "markdown",
      "source": [
        "# Arsitektur Model"
      ],
      "metadata": {
        "id": "PLBaFXI0ZsMn"
      }
    },
    {
      "cell_type": "code",
      "source": [
        "# Template Dasar\n",
        "class MyCustomModule(nn.Module):\n",
        "    def __init__(self):\n",
        "        super().__init__()\n",
        "\n",
        "    def forward(self, x):\n",
        "        pass\n",
        "\n",
        "# Contoh ANN\n",
        "from jcopdl.layers import linear_block\n",
        "\n",
        "class NN(nn.Module):\n",
        "    def __init__(self):\n",
        "        super().__init__()\n",
        "        self.fc = nn.Sequential(\n",
        "            linear_block(input_size, n1, dropout=dropout),\n",
        "            linear_block(n1, n2, dropout=dropout),\n",
        "            linear_block(n2, output_size, activation='_________')\n",
        "        )\n",
        "\n",
        "    def forward(self, x):\n",
        "        return self.fc(x)\n",
        "\n",
        "# Contoh CNN\n",
        "from jcopdl.layers import linear_block, conv_block\n",
        "\n",
        "class CNN(nn.Module):\n",
        "    def __init__(self):\n",
        "        super().__init__()\n",
        "        self.conv = nn.Sequential(\n",
        "            conv_block(\"___\", \"___\"),\n",
        "            conv_block(\"___\", \"___\"),\n",
        "            nn.Flatten()\n",
        "        )\n",
        "\n",
        "        self.fc = nn.Sequential(\n",
        "            linear_block(\"_____\", \"_____\", dropout=\"_____\"),\n",
        "            linear_block(\"_____\", \"_____\", activation=\"______\")\n",
        "        )\n",
        "\n",
        "    def forward(self, x):\n",
        "        return self.fc(self.conv(x))"
      ],
      "metadata": {
        "id": "SWPbeu3ZZt82"
      },
      "execution_count": null,
      "outputs": []
    },
    {
      "cell_type": "markdown",
      "source": [
        "# Training Preparation:"
      ],
      "metadata": {
        "id": "aW1d3dNcZwbd"
      }
    },
    {
      "cell_type": "code",
      "source": [
        "model = \"_______\"  # model yang sudah dibuat\n",
        "criterion = \"_______\"  # loss function\n",
        "optimizer = optim.AdamW(model.parameters(), lr=0.001)\n",
        "callback = Callback(model, config, outdir=\"model\")"
      ],
      "metadata": {
        "id": "3UeEIB7uZ2L5"
      },
      "execution_count": null,
      "outputs": []
    },
    {
      "cell_type": "markdown",
      "source": [
        "# Training Loop:A. Standard"
      ],
      "metadata": {
        "id": "oMCgPJf1bYhr"
      }
    },
    {
      "cell_type": "code",
      "source": [
        "from tqdm.auto import tqdm\n",
        "\n",
        "def loop_fn(mode, dataset, dataloader, model, criterion, optimizer, device):\n",
        "    if mode == \"train\":\n",
        "        model.train()\n",
        "    elif mode == \"test\":\n",
        "        model.eval()\n",
        "    cost = 0\n",
        "    for feature, target in tqdm(dataloader, desc=mode.title()):\n",
        "        feature, target = feature.to(device), target.to(device)\n",
        "        output = model(feature)\n",
        "        loss = criterion(output, target)\n",
        "\n",
        "        if mode == \"train\":\n",
        "            loss.backward()\n",
        "            optimizer.step()\n",
        "            optimizer.zero_grad()\n",
        "\n",
        "        cost += loss.item() * feature.shape[0]\n",
        "    cost = cost / len(dataset)\n",
        "    return cost"
      ],
      "metadata": {
        "id": "EfM6SP7MbavO"
      },
      "execution_count": null,
      "outputs": []
    },
    {
      "cell_type": "markdown",
      "source": [
        "# Include accuracy"
      ],
      "metadata": {
        "id": "RPzqQfK2bb-o"
      }
    },
    {
      "cell_type": "code",
      "source": [
        "from tqdm.auto import tqdm\n",
        "\n",
        "def loop_fn(mode, dataset, dataloader, model, criterion, optimizer, device):\n",
        "    if mode == \"train\":\n",
        "        model.train()\n",
        "    elif mode == \"test\":\n",
        "        model.eval()\n",
        "    cost = correct = 0\n",
        "    for feature, target in tqdm(dataloader, desc=mode.title()):\n",
        "        feature, target = feature.to(device), target.to(device)\n",
        "        output = model(feature)\n",
        "        loss = criterion(output, target)\n",
        "\n",
        "        if mode == \"train\":\n",
        "            loss.backward()\n",
        "            optimizer.step()\n",
        "            optimizer.zero_grad()\n",
        "\n",
        "        cost += loss.item() * feature.shape[0]\n",
        "        correct += (output.argmax(1) == target).sum().item()\n",
        "    cost = cost / len(dataset)\n",
        "    acc = correct / len(dataset)\n",
        "    return cost, acc"
      ],
      "metadata": {
        "id": "7kcVhXbzbfJy"
      },
      "execution_count": null,
      "outputs": []
    },
    {
      "cell_type": "markdown",
      "source": [
        "# RNN with BPTT"
      ],
      "metadata": {
        "id": "1fQkcv_pbiDU"
      }
    },
    {
      "cell_type": "code",
      "source": [
        "from tqdm.auto import tqdm\n",
        "\n",
        "def loop_fn(mode, dataset, dataloader, model, criterion, optimizer, device):\n",
        "    if mode == \"train\":\n",
        "        model.train()\n",
        "    elif mode == \"test\":\n",
        "        model.eval()\n",
        "    cost = 0\n",
        "    for feature, target in tqdm(dataloader, desc=mode.title()):\n",
        "        feature, target = feature.to(device), target.to(device)\n",
        "        output, hidden = model(feature, None)\n",
        "        loss = criterion(output, target)\n",
        "\n",
        "        if mode == \"train\":\n",
        "            loss.backward()\n",
        "            optimizer.step()\n",
        "            optimizer.zero_grad()\n",
        "\n",
        "        cost += loss.item() * feature.shape[0]\n",
        "    cost = cost / len(dataset)\n",
        "    return cost"
      ],
      "metadata": {
        "id": "EeK2YM-nbj8O"
      },
      "execution_count": null,
      "outputs": []
    },
    {
      "cell_type": "markdown",
      "source": [
        "# RNN with Truncated BPTT"
      ],
      "metadata": {
        "id": "7xMTmdYlbmmO"
      }
    },
    {
      "cell_type": "code",
      "source": [
        "from tqdm.auto import tqdm\n",
        "\n",
        "def loop_fn(mode, dataset, dataloader, model, criterion, optimizer, device):\n",
        "    if mode == \"train\":\n",
        "        model.train()\n",
        "    elif mode == \"test\":\n",
        "        model.eval()\n",
        "    cost = 0\n",
        "    for feature, target in tqdm(dataloader, desc=mode.title()):\n",
        "        hidden = None\n",
        "        for step in range(feature.shape[1]):\n",
        "            feature_step, target_step = feature[:, step, :, :].to(device), target[:, step, :, :].to(device)\n",
        "            output, hidden = model(feature_step, hidden)\n",
        "            loss = criterion(output, target_step)\n",
        "\n",
        "            if mode == \"train\":\n",
        "                loss.backward()\n",
        "                optimizer.step()\n",
        "                optimizer.zero_grad()\n",
        "\n",
        "                hidden.detach_()\n",
        "\n",
        "        cost += loss.item() * feature.shape[0]\n",
        "    cost = cost / len(dataset)\n",
        "    return cost"
      ],
      "metadata": {
        "id": "JmPTbfXrbnVo"
      },
      "execution_count": null,
      "outputs": []
    },
    {
      "cell_type": "markdown",
      "source": [
        "# Training Process:A. Standard Training"
      ],
      "metadata": {
        "id": "Nt3BFVZvbq8c"
      }
    },
    {
      "cell_type": "code",
      "source": [
        "while True:\n",
        "    train_cost = loop_fn(\"train\", train_set, trainloader, model, criterion, optimizer, device)\n",
        "    with torch.no_grad():\n",
        "        test_cost = loop_fn(\"test\", test_set, testloader, model, criterion, optimizer, device)\n",
        "\n",
        "    # Logging\n",
        "    callback.log(train_cost, test_cost)\n",
        "\n",
        "    # Checkpoint\n",
        "    callback.save_checkpoint()\n",
        "\n",
        "    # Runtime Plotting\n",
        "    callback.cost_runtime_plotting()\n",
        "\n",
        "    # Early Stopping\n",
        "    if callback.early_stopping(model, monitor=\"test_cost\"):\n",
        "        callback.plot_cost()\n",
        "        break"
      ],
      "metadata": {
        "id": "FN3o-tiybs4p"
      },
      "execution_count": null,
      "outputs": []
    },
    {
      "cell_type": "markdown",
      "source": [
        "#  Training dengan Accuracy"
      ],
      "metadata": {
        "id": "fqigq2EfbxV4"
      }
    },
    {
      "cell_type": "code",
      "source": [
        "while True:\n",
        "    train_cost, train_score = loop_fn(\"train\", train_set, trainloader, model, criterion, optimizer, device)\n",
        "    with torch.no_grad():\n",
        "        test_cost, test_score = loop_fn(\"test\", test_set, testloader, model, criterion, optimizer, device)\n",
        "\n",
        "    # Logging\n",
        "    callback.log(train_cost, test_cost, train_score, test_score)\n",
        "\n",
        "    # Checkpoint\n",
        "    callback.save_checkpoint()\n",
        "\n",
        "    # Runtime Plotting\n",
        "    callback.cost_runtime_plotting()\n",
        "    callback.score_runtime_plotting()\n",
        "\n",
        "    # Early Stopping\n",
        "    if callback.early_stopping(model, monitor=\"test_score\"):\n",
        "        callback.plot_cost()\n",
        "        callback.plot_score()\n",
        "        break"
      ],
      "metadata": {
        "id": "7eYt7wlebyW6"
      },
      "execution_count": null,
      "outputs": []
    },
    {
      "cell_type": "markdown",
      "source": [
        "# Training Loop Functions:"
      ],
      "metadata": {
        "id": "R6Z6j9ynZ8q7"
      }
    },
    {
      "cell_type": "code",
      "source": [
        "# Standard Loop\n",
        "from tqdm.auto import tqdm\n",
        "\n",
        "def loop_fn(mode, dataset, dataloader, model, criterion, optimizer, device):\n",
        "    if mode == \"train\":\n",
        "        model.train()\n",
        "    elif mode == \"test\":\n",
        "        model.eval()\n",
        "    cost = 0\n",
        "    for feature, target in tqdm(dataloader, desc=mode.title()):\n",
        "        feature, target = feature.to(device), target.to(device)\n",
        "        output = model(feature)\n",
        "        loss = criterion(output, target)\n",
        "\n",
        "        if mode == \"train\":\n",
        "            loss.backward()\n",
        "            optimizer.step()\n",
        "            optimizer.zero_grad()\n",
        "\n",
        "        cost += loss.item() * feature.shape[0]\n",
        "    cost = cost / len(dataset)\n",
        "    return cost\n",
        "\n",
        "# Loop dengan Accuracy\n",
        "def loop_fn(mode, dataset, dataloader, model, criterion, optimizer, device):\n",
        "    if mode == \"train\":\n",
        "        model.train()\n",
        "    elif mode == \"test\":\n",
        "        model.eval()\n",
        "    cost = correct = 0\n",
        "    for feature, target in tqdm(dataloader, desc=mode.title()):\n",
        "        feature, target = feature.to(device), target.to(device)\n",
        "        output = model(feature)\n",
        "        loss = criterion(output, target)\n",
        "\n",
        "        if mode == \"train\":\n",
        "            loss.backward()\n",
        "            optimizer.step()\n",
        "            optimizer.zero_grad()\n",
        "\n",
        "        cost += loss.item() * feature.shape[0]\n",
        "        correct += (output.argmax(1) == target).sum().item()\n",
        "    cost = cost / len(dataset)\n",
        "    acc = correct / len(dataset)\n",
        "    return cost, acc"
      ],
      "metadata": {
        "id": "0fuo-O66Z-Oo"
      },
      "execution_count": null,
      "outputs": []
    },
    {
      "cell_type": "markdown",
      "source": [
        "# Training Process:"
      ],
      "metadata": {
        "id": "7tsqfmmJaAq3"
      }
    },
    {
      "cell_type": "code",
      "source": [
        "# Standard Training\n",
        "while True:\n",
        "    train_cost = loop_fn(\"train\", train_set, trainloader, model, criterion, optimizer, device)\n",
        "    with torch.no_grad():\n",
        "        test_cost = loop_fn(\"test\", test_set, testloader, model, criterion, optimizer, device)\n",
        "\n",
        "    # Logging\n",
        "    callback.log(train_cost, test_cost)\n",
        "\n",
        "    # Checkpoint\n",
        "    callback.save_checkpoint()\n",
        "\n",
        "    # Runtime Plotting\n",
        "    callback.cost_runtime_plotting()\n",
        "\n",
        "    # Early Stopping\n",
        "    if callback.early_stopping(model, monitor=\"test_cost\"):\n",
        "        callback.plot_cost()\n",
        "        break\n",
        "\n",
        "# Training dengan Accuracy\n",
        "while True:\n",
        "    train_cost, train_score = loop_fn(\"train\", train_set, trainloader, model, criterion, optimizer, device)\n",
        "    with torch.no_grad():\n",
        "        test_cost, test_score = loop_fn(\"test\", test_set, testloader, model, criterion, optimizer, device)\n",
        "\n",
        "    # Logging\n",
        "    callback.log(train_cost, test_cost, train_score, test_score)\n",
        "\n",
        "    # Checkpoint\n",
        "    callback.save_checkpoint()\n",
        "\n",
        "    # Runtime Plotting\n",
        "    callback.cost_runtime_plotting()\n",
        "    callback.score_runtime_plotting()\n",
        "\n",
        "    # Early Stopping\n",
        "    if callback.early_stopping(model, monitor=\"test_score\"):\n",
        "        callback.plot_cost()\n",
        "        callback.plot_score()\n",
        "        break"
      ],
      "metadata": {
        "id": "KNkHSo0jaFIe"
      },
      "execution_count": null,
      "outputs": []
    },
    {
      "cell_type": "markdown",
      "source": [
        "# Load Best Model:"
      ],
      "metadata": {
        "id": "dROxAcVnaGYk"
      }
    },
    {
      "cell_type": "code",
      "source": [
        "weights = torch.load(\"________________\", map_location=\"cpu\")\n",
        "model.load_state_dict(weights)\n",
        "model = model.to(device)"
      ],
      "metadata": {
        "id": "bbskwMJ_aJWo"
      },
      "execution_count": null,
      "outputs": []
    }
  ]
}