{
  "nbformat": 4,
  "nbformat_minor": 0,
  "metadata": {
    "colab": {
      "provenance": [],
      "authorship_tag": "ABX9TyNsMgqT+LdQV7F+Mps7zMER",
      "include_colab_link": true
    },
    "kernelspec": {
      "name": "python3",
      "display_name": "Python 3"
    },
    "language_info": {
      "name": "python"
    }
  },
  "cells": [
    {
      "cell_type": "markdown",
      "metadata": {
        "id": "view-in-github",
        "colab_type": "text"
      },
      "source": [
        "<a href=\"https://colab.research.google.com/github/Ibnuamrithaher/Deep-Learning/blob/main/13%20-%20Neural%20Network/Part%207%20-%20Python%20Class%20and%20Object%20Oriented%20Programming.ipynb\" target=\"_parent\"><img src=\"https://colab.research.google.com/assets/colab-badge.svg\" alt=\"Open In Colab\"/></a>"
      ]
    },
    {
      "cell_type": "markdown",
      "source": [
        "## MATERI OPP DAN INHIRITENCE => sudah paha,"
      ],
      "metadata": {
        "id": "1T_z5aTxcw-n"
      }
    },
    {
      "cell_type": "code",
      "execution_count": 2,
      "metadata": {
        "id": "sLQ9p8zZbKBB"
      },
      "outputs": [],
      "source": [
        "class Manusia:\n",
        "  def __init__(self, warna_rambut, tinggi=150, berat=50):\n",
        "    self.warna_rambut = warna_rambut\n",
        "    self.tinggi = tinggi\n",
        "    self.berat = berat\n",
        "\n",
        "  def cat_rambut(self, warna):\n",
        "    self.warna_rambut = warna\n",
        "    print(f\"Rambutnya jadi warna {warna}\")"
      ]
    },
    {
      "cell_type": "code",
      "source": [
        "class Kampus(Manusia):\n",
        "  def __init__(self, kampus):\n",
        "    self.kampus = kampus\n",
        "\n",
        "\n",
        "  def lalal(self):\n",
        "    print(f\"Rambutnya jadi warna\")"
      ],
      "metadata": {
        "id": "3LykM7WJdWPC"
      },
      "execution_count": 9,
      "outputs": []
    },
    {
      "cell_type": "code",
      "source": [
        "ibnu = Manusia(\"putih\")\n",
        "ibnu.warna_rambut"
      ],
      "metadata": {
        "colab": {
          "base_uri": "https://localhost:8080/",
          "height": 35
        },
        "id": "rxzazZAWcM1_",
        "outputId": "4a650f94-8a20-4c8a-8180-112ebb7d3a98"
      },
      "execution_count": 5,
      "outputs": [
        {
          "output_type": "execute_result",
          "data": {
            "text/plain": [
              "'putih'"
            ],
            "application/vnd.google.colaboratory.intrinsic+json": {
              "type": "string"
            }
          },
          "metadata": {},
          "execution_count": 5
        }
      ]
    },
    {
      "cell_type": "markdown",
      "source": [
        "## **PyTorch NN Module**"
      ],
      "metadata": {
        "id": "JpK6yvCCcqZk"
      }
    },
    {
      "cell_type": "code",
      "source": [
        "import torch\n",
        "from torch import nn\n"
      ],
      "metadata": {
        "id": "mTeYC7E4ctnB"
      },
      "execution_count": 6,
      "outputs": []
    },
    {
      "cell_type": "code",
      "source": [
        "??nn.Module"
      ],
      "metadata": {
        "id": "REla0b_ldAu9"
      },
      "execution_count": 8,
      "outputs": []
    },
    {
      "cell_type": "code",
      "source": [
        "class CustomNN(nn.Module):\n",
        "  def __init__(self, input_size, output_size):\n",
        "    super().__init__()\n",
        "    self.fc = nn.Sequential(\n",
        "        nn.Linear(input_size, 16),\n",
        "        nn.ReLU(),\n",
        "        nn.Linear(16, 8),\n",
        "        nn.ReLU(),\n",
        "        nn.Linear(8, output_size),\n",
        "        nn.Sigmoid(),\n",
        "    )\n",
        "\n",
        "  def forward(self, x):\n",
        "    return self.fc(x)"
      ],
      "metadata": {
        "id": "SQ6-_9PMdR2m"
      },
      "execution_count": 11,
      "outputs": []
    },
    {
      "cell_type": "code",
      "source": [
        "class FaceBiometric(nn.Module):\n",
        "  def __init__(self, input_size, output_size):\n",
        "    super().__init__()\n",
        "    self.fc = nn.Sequential(\n",
        "        nn.Linear(input_size, 16),\n",
        "        nn.ReLU(),\n",
        "    )\n",
        "    self.regresi = nn.Linear(16,4)\n",
        "    self.clasifaier = nn.Sequential(\n",
        "        nn.Linear(16, 4),\n",
        "        nn.Sigmoid(),\n",
        "    )\n",
        "\n",
        "  def forward(self, x):\n",
        "    x = self.fc(x)\n",
        "    pred_reg = self.reg(x)\n",
        "    pred_clf = self.clasifaier(x)\n",
        "    return pred_reg, pred_clf"
      ],
      "metadata": {
        "id": "6dr3ttw0fEHQ"
      },
      "execution_count": 12,
      "outputs": []
    },
    {
      "cell_type": "code",
      "source": [
        "model = CustomNN(7, 1)"
      ],
      "metadata": {
        "id": "lpgvUl9NgDls"
      },
      "execution_count": 13,
      "outputs": []
    },
    {
      "cell_type": "code",
      "source": [
        "contoh_data = torch.rand(100, 7)"
      ],
      "metadata": {
        "id": "Y02zryk2gTOH"
      },
      "execution_count": 14,
      "outputs": []
    },
    {
      "cell_type": "code",
      "source": [
        "output = model.forward(contoh_data)\n",
        "output"
      ],
      "metadata": {
        "colab": {
          "base_uri": "https://localhost:8080/"
        },
        "id": "_hogXiI8gXP2",
        "outputId": "f44a808f-50d4-4b8c-8fe7-31ea76686bce"
      },
      "execution_count": 16,
      "outputs": [
        {
          "output_type": "execute_result",
          "data": {
            "text/plain": [
              "tensor([[0.4772],\n",
              "        [0.4906],\n",
              "        [0.4947],\n",
              "        [0.4812],\n",
              "        [0.4858],\n",
              "        [0.4866],\n",
              "        [0.4841],\n",
              "        [0.4860],\n",
              "        [0.4781],\n",
              "        [0.4861],\n",
              "        [0.4930],\n",
              "        [0.4901],\n",
              "        [0.4828],\n",
              "        [0.4800],\n",
              "        [0.4930],\n",
              "        [0.4849],\n",
              "        [0.4940],\n",
              "        [0.4821],\n",
              "        [0.4849],\n",
              "        [0.4821],\n",
              "        [0.4890],\n",
              "        [0.4809],\n",
              "        [0.4816],\n",
              "        [0.4874],\n",
              "        [0.4826],\n",
              "        [0.4867],\n",
              "        [0.4827],\n",
              "        [0.4867],\n",
              "        [0.4837],\n",
              "        [0.4901],\n",
              "        [0.4859],\n",
              "        [0.4785],\n",
              "        [0.4843],\n",
              "        [0.4859],\n",
              "        [0.4840],\n",
              "        [0.4860],\n",
              "        [0.4852],\n",
              "        [0.4864],\n",
              "        [0.4932],\n",
              "        [0.4900],\n",
              "        [0.4880],\n",
              "        [0.4857],\n",
              "        [0.4878],\n",
              "        [0.4833],\n",
              "        [0.4846],\n",
              "        [0.4837],\n",
              "        [0.4819],\n",
              "        [0.4812],\n",
              "        [0.4859],\n",
              "        [0.4857],\n",
              "        [0.4967],\n",
              "        [0.4854],\n",
              "        [0.4895],\n",
              "        [0.4817],\n",
              "        [0.4829],\n",
              "        [0.4822],\n",
              "        [0.4865],\n",
              "        [0.4869],\n",
              "        [0.4861],\n",
              "        [0.4877],\n",
              "        [0.4836],\n",
              "        [0.4861],\n",
              "        [0.4948],\n",
              "        [0.4856],\n",
              "        [0.4812],\n",
              "        [0.4884],\n",
              "        [0.4865],\n",
              "        [0.4858],\n",
              "        [0.4826],\n",
              "        [0.4901],\n",
              "        [0.4837],\n",
              "        [0.4828],\n",
              "        [0.4825],\n",
              "        [0.4835],\n",
              "        [0.4881],\n",
              "        [0.4868],\n",
              "        [0.4909],\n",
              "        [0.4843],\n",
              "        [0.4845],\n",
              "        [0.4854],\n",
              "        [0.4834],\n",
              "        [0.4839],\n",
              "        [0.4861],\n",
              "        [0.4855],\n",
              "        [0.4892],\n",
              "        [0.4930],\n",
              "        [0.4854],\n",
              "        [0.4833],\n",
              "        [0.4860],\n",
              "        [0.4853],\n",
              "        [0.4899],\n",
              "        [0.4872],\n",
              "        [0.4871],\n",
              "        [0.4858],\n",
              "        [0.4822],\n",
              "        [0.4806],\n",
              "        [0.4899],\n",
              "        [0.4840],\n",
              "        [0.4846],\n",
              "        [0.4846]], grad_fn=<SigmoidBackward0>)"
            ]
          },
          "metadata": {},
          "execution_count": 16
        }
      ]
    }
  ]
}